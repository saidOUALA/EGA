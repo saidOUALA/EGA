{
 "cells": [
  {
   "cell_type": "code",
   "execution_count": 1,
   "id": "initial_id",
   "metadata": {
    "collapsed": true,
    "ExecuteTime": {
     "end_time": "2024-08-22T08:39:43.301925Z",
     "start_time": "2024-08-22T08:39:38.472399Z"
    }
   },
   "outputs": [],
   "source": [
    "import numpy as np\n",
    "import matplotlib.pyplot as plt\n",
    "import torch\n",
    "from torchdiffeq import odeint as odeint_torch\n",
    "from generate_data import generate_data\n",
    "from tqdm import tqdm\n",
    "from functorch import make_functional\n",
    "from utils import  extract_and_reset_grads\n",
    "import time"
   ]
  },
  {
   "cell_type": "markdown",
   "source": [],
   "metadata": {
    "collapsed": false
   },
   "id": "342e386a0908fd59"
  },
  {
   "cell_type": "code",
   "outputs": [],
   "source": [
    "# NN correction\n",
    "class ClosureTerm(torch.nn.Module):\n",
    "    def __init__(self, params):\n",
    "        super(ClosureTerm, self).__init__()\n",
    "        # params of the neural correction to the dynamical model (FCN model)\n",
    "        self.trans_layers = params['transition_layers']\n",
    "        self.transLayers = torch.nn.ModuleList([torch.nn.Linear(params['dim_state'], params['dim_hidden_dyn_mdl'])])\n",
    "        self.transLayers.extend(\n",
    "            [torch.nn.Linear(params['dim_hidden_dyn_mdl'], params['dim_hidden_dyn_mdl']) for i in\n",
    "             range(1, params['transition_layers'])])\n",
    "        self.out_transLayers = torch.nn.Linear(params['dim_hidden_dyn_mdl'], params['dim_state'])   \n",
    "    \n",
    "    def forward(self, x):\n",
    "        for i in range(self.trans_layers):\n",
    "            x = torch.tanh(self.transLayers[i](x))\n",
    "        x = self.out_transLayers(x)\n",
    "        return x"
   ],
   "metadata": {
    "collapsed": false,
    "ExecuteTime": {
     "end_time": "2024-08-22T08:39:43.333897Z",
     "start_time": "2024-08-22T08:39:43.310934Z"
    }
   },
   "id": "662f4ca20dd0cae",
   "execution_count": 2
  },
  {
   "cell_type": "code",
   "outputs": [],
   "source": [
    "# \"hybrid model\"\n",
    "class HybridMdl(torch.nn.Module):\n",
    "    def __init__(self, params):\n",
    "        super(HybridMdl, self).__init__()\n",
    "        # dimensions :\n",
    "        self.dim_state = params['dim_state']\n",
    "        self.closure = ClosureTerm(params)\n",
    "        # params of the true L63 system\n",
    "        self.sigma = (torch.from_numpy(np.array(GD.parameters.sigma)).float())\n",
    "        self.rho = (torch.from_numpy(np.array(GD.parameters.rho)).float())\n",
    "        self.beta = (torch.from_numpy(np.array(GD.parameters.beta)).float())\n",
    "    \n",
    "    def dyn_net(self, t, inp):\n",
    "        grad = (torch.zeros((inp.size())).to(inp.device))\n",
    "        grad[:,0] = self.sigma*(inp[:,1]-inp[:,0]);\n",
    "        grad[:,1] = inp[:,0]*(self.rho-inp[:,2])-inp[:,1];\n",
    "        grad[:,2] = inp[:,0]*inp[:,1] #+  self.beta*inp[:,2];\n",
    "        return grad + self.closure(inp)\n",
    "\n",
    "    def model_dt(self, inp, dt, t0=0,\n",
    "                grad_mode='EGA-static'):  # flow of the ODE, assuming the flow is autonomous so t0 is always 0\n",
    "        if grad_mode == 'exact':\n",
    "            pred = odeint_torch(self.dyn_net, inp, torch.arange(t0, dt + 0.000001, dt), method='rk4')\n",
    "            return pred[-1, :, :]\n",
    "        elif grad_mode == 'EGA-static' or grad_mode == 'EGA-ST' or grad_mode == 'EGA-J':\n",
    "            with torch.no_grad():\n",
    "                # blackbox non diff solver, here an adaptive dopri solver\n",
    "                pred = odeint_torch(self.dyn_net, inp, torch.arange(t0, dt + 0.000001, dt), method='rk4')\n",
    "            # computational graph of the blackbox solver\n",
    "            if grad_mode == 'EGA-static':\n",
    "                output_p = dt * self.closure(inp.detach()) + inp\n",
    "                output_p.data = pred.data[-1, :, :]\n",
    "            elif grad_mode == 'EGA-ST':\n",
    "                output_p = dt * self.closure(inp) + inp\n",
    "                output_p.data = pred.data[-1, :, :]\n",
    "            elif grad_mode == 'EGA-J':\n",
    "                output_p = dt * self.dyn_net(t0+dt,inp) + inp\n",
    "                output_p.data = pred.data[-1, :, :]                \n",
    "            return output_p\n",
    "    def forward(self, dt, n, x0, grad_mode='EGA'):\n",
    "        pred = [x0]\n",
    "        for i in range(n):\n",
    "            pred.append(self.model_dt(pred[-1], dt, grad_mode=grad_mode))\n",
    "        pred_seq = torch.stack(pred)[:, :, :]\n",
    "        return pred_seq"
   ],
   "metadata": {
    "collapsed": false,
    "ExecuteTime": {
     "end_time": "2024-08-22T09:24:24.931142Z",
     "start_time": "2024-08-22T09:24:24.916829Z"
    }
   },
   "id": "84bf27ca332dd38",
   "execution_count": 57
  },
  {
   "cell_type": "code",
   "outputs": [],
   "source": [
    "convergence_diag = {'time_steps': [0.0001, 0.0005, 0.001, 0.003, 0.005, 0.008, 0.01, 0.03, 0.05, 0.08, 0.1], 'error_EGA_ST': [], 'error_EGA_Static': [], 'error_EGA_J_Euler': [], 'time_comp_graph': [], 'time_EGA_static': [], 'time_EGA_J_Euler': [], 'time_EGA_ST': []}"
   ],
   "metadata": {
    "collapsed": false,
    "ExecuteTime": {
     "end_time": "2024-08-22T09:24:25.085609Z",
     "start_time": "2024-08-22T09:24:25.077415Z"
    }
   },
   "id": "40e8ca0cc9bdc563",
   "execution_count": 58
  },
  {
   "cell_type": "code",
   "outputs": [],
   "source": [
    "convergence_diag = {'n_steps': [1,5,10,15,20,25,30,35,40,45,50,55,60,65,70, 75, 80, 85, 90, 95, 100, 200, 300, 400],'time_steps': [0.01],'error_EGA_ST': [], 'error_EGA_Static': [], 'error_EGA_J_Euler': [], 'norm_error_EGA_ST': [], 'norm_error_EGA_Static': [], 'norm_error_EGA_J_Euler': [], 'time_comp_graph': [], 'time_EGA_static': [], 'time_EGA_J_Euler': [], 'time_EGA_ST': []}\n"
   ],
   "metadata": {
    "collapsed": false,
    "ExecuteTime": {
     "end_time": "2024-08-22T09:38:21.099585Z",
     "start_time": "2024-08-22T09:38:21.084171Z"
    }
   },
   "id": "1cea725a8f7409ba",
   "execution_count": 64
  },
  {
   "cell_type": "code",
   "outputs": [],
   "source": [
    "# Generate Lorenz 63 simulations\n",
    "class GD:\n",
    "    model = 'Lorenz_63'\n",
    "    class parameters:\n",
    "        sigma = 10.0\n",
    "        rho = 28.0\n",
    "        beta = 8.0/3\n",
    "    dt_integration = convergence_diag['time_steps'][0]\n",
    "    nb_loop_data = 60.0\n",
    "\n",
    "# run the data generation\n",
    "dataset = generate_data(GD)"
   ],
   "metadata": {
    "collapsed": false,
    "ExecuteTime": {
     "end_time": "2024-08-22T09:38:22.725766Z",
     "start_time": "2024-08-22T09:38:22.669066Z"
    }
   },
   "id": "600d820290ff1337",
   "execution_count": 65
  },
  {
   "cell_type": "code",
   "outputs": [
    {
     "name": "stderr",
     "output_type": "stream",
     "text": [
      "100%|██████████| 24/24 [14:19<00:00, 35.83s/it] \n"
     ]
    }
   ],
   "source": [
    "for i in tqdm(range(len(convergence_diag['n_steps']))):\n",
    "    params = {'dt_integration': convergence_diag['time_steps'][0], 'dim_state': 3, 'dim_output': 3, 'transition_layers': 2,\n",
    "              'dim_hidden_dyn_mdl': 3, 'device': 'cpu', 'Batch_size': 128, \n",
    "              'seed': 0, 'n_steps': convergence_diag['n_steps'][i]}\n",
    "    np.random.seed(params['seed'])\n",
    "    torch.manual_seed(params['seed'])\n",
    "    \n",
    "    # make sure we use the same number of initial conditions per time resolution\n",
    "    rat_data = int(convergence_diag['time_steps'][-1]/params['dt_integration'])\n",
    "    subsampling = int(params['dt_integration']/convergence_diag['time_steps'][0])\n",
    "    X_train = torch.from_numpy(dataset[::subsampling][::rat_data]).float()\n",
    "    train_loader = torch.utils.data.DataLoader(X_train, batch_size=params['Batch_size'], shuffle=False, pin_memory=False, drop_last=True)\n",
    "    \n",
    "    # hybrid model\n",
    "    hybrid_model = HybridMdl(params)\n",
    "\n",
    "    # EGA static\n",
    "    time_batch_ega_static, grads_EGA_Static = [], []\n",
    "    time_batch_ega_J_euler, grads_EGA_J_Euler = [], []\n",
    "    time_batch_ega_ST, grads_EGA_ST = [], []\n",
    "    time_batch_comp_G, grads_GT = [], []\n",
    "    \n",
    "    for x_data in train_loader:\n",
    "        x_data = x_data.to(params['device'])\n",
    "        pred_mdl = hybrid_model(params['dt_integration'], params['n_steps'], x_data, grad_mode='EGA-static')\n",
    "        error1 = torch.mean((pred_mdl - torch.zeros_like(pred_mdl)) ** 2)\n",
    "        start_time_ega_static = time.time()\n",
    "        error1.backward()\n",
    "        end_time_ega_static = time.time()\n",
    "        time_batch_ega_static.append(end_time_ega_static - start_time_ega_static)\n",
    "        # params and gradients of EGA static\n",
    "        grads_EGA_Static.append(extract_and_reset_grads(hybrid_model).detach().cpu().numpy())\n",
    "\n",
    "        # EGA Jacobian Euler\n",
    "        pred_mdl = hybrid_model(params['dt_integration'], params['n_steps'], x_data, grad_mode='EGA-J')\n",
    "        error1 = torch.mean((pred_mdl - torch.zeros_like(pred_mdl)) ** 2)\n",
    "        start_time_ega_J_euler = time.time()\n",
    "        error1.backward()\n",
    "        end_time_ega_J_euler = time.time()\n",
    "        time_batch_ega_J_euler.append(end_time_ega_J_euler - start_time_ega_J_euler)\n",
    "        # params and gradients of EGA jacobian (assuming Euler jacobians)\n",
    "        grads_EGA_J_Euler.append(extract_and_reset_grads(hybrid_model).detach().cpu().numpy())\n",
    "\n",
    "        # EGA straight through (keep the jacobian term of the NN model)\n",
    "        pred_mdl = hybrid_model(params['dt_integration'], params['n_steps'], x_data, grad_mode='EGA-ST')\n",
    "        error1 = torch.mean((pred_mdl - torch.zeros_like(pred_mdl)) ** 2)\n",
    "        start_time_ega_ST = time.time()\n",
    "        error1.backward()\n",
    "        end_time_ega_ST = time.time()\n",
    "        time_batch_ega_ST.append(end_time_ega_ST - start_time_ega_ST)\n",
    "        # params and gradients of EGA straight through \n",
    "        grads_EGA_ST.append(extract_and_reset_grads(hybrid_model).detach().cpu().numpy())\n",
    "\n",
    "        # Exact gradient of the solver\n",
    "        pred_mdl = hybrid_model(params['dt_integration'], params['n_steps'], x_data, grad_mode='exact')\n",
    "        error1 = torch.mean((pred_mdl - torch.zeros_like(pred_mdl)) ** 2)\n",
    "        start_time_ega_comp_G = time.time()\n",
    "        error1.backward()\n",
    "        end_time_ega_comp_G = time.time()\n",
    "        time_batch_comp_G.append(end_time_ega_comp_G - start_time_ega_comp_G)\n",
    "        # params and gradients of Exact gradient \n",
    "        grads_GT.append(extract_and_reset_grads(hybrid_model).detach().cpu().numpy())\n",
    "    \n",
    "    # compute gradient errors\n",
    "    convergence_diag['error_EGA_ST'].append(np.array(grads_GT) - np.array(grads_EGA_ST)) \n",
    "    convergence_diag['error_EGA_Static'].append(np.array(grads_GT) - np.array(grads_EGA_Static)) \n",
    "    convergence_diag['error_EGA_J_Euler'].append(np.array(grads_GT) - np.array(grads_EGA_J_Euler)) \n",
    "    \n",
    "    norm_grad = np.abs(np.array(grads_GT))\n",
    "    norm_grad[np.where(np.abs(np.array(grads_GT))<1E-3)] = 1E-3\n",
    "    convergence_diag['norm_error_EGA_ST'].append(np.abs(np.array(grads_GT) - np.array(grads_EGA_ST))/norm_grad) \n",
    "    convergence_diag['norm_error_EGA_Static'].append(np.abs(np.array(grads_GT) - np.array(grads_EGA_Static))/norm_grad) \n",
    "    convergence_diag['norm_error_EGA_J_Euler'].append(np.abs(np.array(grads_GT) - np.array(grads_EGA_J_Euler))/norm_grad) \n",
    "    \n",
    "    convergence_diag['time_comp_graph'].append(np.array(time_batch_comp_G)) \n",
    "    convergence_diag['time_EGA_static'].append(np.array(time_batch_ega_static)) \n",
    "    convergence_diag['time_EGA_J_Euler'].append(np.array(time_batch_ega_J_euler)) \n",
    "    convergence_diag['time_EGA_ST'].append(np.array(time_batch_ega_ST)) "
   ],
   "metadata": {
    "collapsed": false,
    "ExecuteTime": {
     "end_time": "2024-08-22T09:52:42.781849Z",
     "start_time": "2024-08-22T09:38:22.876025Z"
    }
   },
   "id": "28c195992d94a1d2",
   "execution_count": 66
  },
  {
   "cell_type": "code",
   "outputs": [
    {
     "data": {
      "text/plain": "21"
     },
     "execution_count": 56,
     "metadata": {},
     "output_type": "execute_result"
    }
   ],
   "source": [
    "len(convergence_diag['n_steps'])"
   ],
   "metadata": {
    "collapsed": false,
    "ExecuteTime": {
     "end_time": "2024-08-22T09:24:04.496650Z",
     "start_time": "2024-08-22T09:24:04.483384Z"
    }
   },
   "id": "6e4e7a47c0b08a06",
   "execution_count": 56
  },
  {
   "cell_type": "code",
   "outputs": [
    {
     "data": {
      "text/plain": "[<matplotlib.lines.Line2D at 0x290946ee820>]"
     },
     "execution_count": 42,
     "metadata": {},
     "output_type": "execute_result"
    },
    {
     "data": {
      "text/plain": "<Figure size 640x480 with 1 Axes>",
      "image/png": "[encoded data removed]"
     },
     "metadata": {},
     "output_type": "display_data"
    }
   ],
   "source": [
    "plt.plot(np.array(convergence_diag['norm_error_EGA_J_Euler'])[16,:,29])"
   ],
   "metadata": {
    "collapsed": false,
    "ExecuteTime": {
     "end_time": "2024-08-22T08:59:46.277696Z",
     "start_time": "2024-08-22T08:59:46.147988Z"
    }
   },
   "id": "4d38f4d4c2118290",
   "execution_count": 42
  },
  {
   "cell_type": "code",
   "outputs": [
    {
     "data": {
      "text/plain": "(63, 46, 36)"
     },
     "execution_count": 54,
     "metadata": {},
     "output_type": "execute_result"
    }
   ],
   "source": [
    "np.array(convergence_diag['error_EGA_J_Euler']).shape"
   ],
   "metadata": {
    "collapsed": false,
    "ExecuteTime": {
     "end_time": "2024-08-22T09:23:27.974521Z",
     "start_time": "2024-08-22T09:23:27.961081Z"
    }
   },
   "id": "ffb87660166a6a69",
   "execution_count": 54
  },
  {
   "cell_type": "code",
   "outputs": [
    {
     "data": {
      "text/plain": "[<matplotlib.lines.Line2D at 0x29099cb3eb0>]"
     },
     "execution_count": 67,
     "metadata": {},
     "output_type": "execute_result"
    },
    {
     "data": {
      "text/plain": "<Figure size 640x480 with 1 Axes>",
      "image/png": "[encoded data removed]"
     },
     "metadata": {},
     "output_type": "display_data"
    }
   ],
   "source": [
    "plt.plot( np.nanmean(np.nanmean(np.array(convergence_diag['error_EGA_ST']), axis = -1), axis = -1)*100)\n",
    "plt.plot(np.nanmean(np.nanmean(np.array(convergence_diag['error_EGA_Static']), axis = -1), axis = -1)*100)\n",
    "plt.plot(np.nanmean(np.nanmean(np.array(convergence_diag['error_EGA_J_Euler']), axis = -1), axis = -1)*100)"
   ],
   "metadata": {
    "collapsed": false,
    "ExecuteTime": {
     "end_time": "2024-08-22T10:05:38.965257Z",
     "start_time": "2024-08-22T10:05:38.829514Z"
    }
   },
   "id": "66d988b4262c8ef",
   "execution_count": 67
  },
  {
   "cell_type": "code",
   "outputs": [
    {
     "data": {
      "text/plain": "[<matplotlib.lines.Line2D at 0x2909ff2e880>]"
     },
     "execution_count": 71,
     "metadata": {},
     "output_type": "execute_result"
    },
    {
     "data": {
      "text/plain": "<Figure size 640x480 with 1 Axes>",
      "image/png": "[encoded data removed]"
     },
     "metadata": {},
     "output_type": "display_data"
    }
   ],
   "source": [
    "plt.plot(convergence_diag['n_steps'], np.nanmean(np.nanmean(np.array(convergence_diag['norm_error_EGA_ST']), axis = -1), axis = -1)*100)\n",
    "plt.plot(convergence_diag['n_steps'], np.nanmean(np.nanmean(np.array(convergence_diag['norm_error_EGA_Static']), axis = -1), axis = -1)*100)\n",
    "plt.plot(convergence_diag['n_steps'], np.nanmean(np.nanmean(np.array(convergence_diag['norm_error_EGA_J_Euler']), axis = -1), axis = -1)*100)\n"
   ],
   "metadata": {
    "collapsed": false,
    "ExecuteTime": {
     "end_time": "2024-08-22T10:07:38.843964Z",
     "start_time": "2024-08-22T10:07:38.692331Z"
    }
   },
   "id": "1df8fcfa87d18393",
   "execution_count": 71
  },
  {
   "cell_type": "code",
   "outputs": [
    {
     "data": {
      "text/plain": "array([0.23565017, 0.47603235, 0.63283455, 0.69010466, 1.421096  ,\n       2.352341  , 0.85960454, 1.1861986 , 1.2672542 , 1.3528727 ,\n       1.4036256 , 1.7545083 , 1.7605393 , 1.7077492 , 1.6513158 ,\n       2.0453548 , 3.5653875 , 2.231755  , 2.7908027 , 2.2703571 ,\n       5.961166  ], dtype=float32)"
     },
     "execution_count": 20,
     "metadata": {},
     "output_type": "execute_result"
    }
   ],
   "source": [
    "np.nanmean(np.nanmean(np.array(convergence_diag['norm_error_EGA_ST']), axis = -1), axis = -1)"
   ],
   "metadata": {
    "collapsed": false,
    "ExecuteTime": {
     "end_time": "2024-08-22T08:49:40.941464Z",
     "start_time": "2024-08-22T08:49:40.923146Z"
    }
   },
   "id": "4b712f6e4daa623e",
   "execution_count": 20
  },
  {
   "cell_type": "code",
   "outputs": [
    {
     "data": {
      "text/plain": "(21, 46, 36)"
     },
     "execution_count": 19,
     "metadata": {},
     "output_type": "execute_result"
    }
   ],
   "source": [
    "np.array(convergence_diag['norm_error_EGA_ST']).shape"
   ],
   "metadata": {
    "collapsed": false,
    "ExecuteTime": {
     "end_time": "2024-08-22T08:49:20.651027Z",
     "start_time": "2024-08-22T08:49:20.636955Z"
    }
   },
   "id": "9b906ef273e6f346",
   "execution_count": 19
  },
  {
   "cell_type": "code",
   "outputs": [],
   "source": [
    "np.linalg.norm(np.array(grads_GT) - np.array(grads_EGA_ST), axis = -1)/np.linalg.norm(np.array(grads_GT), axis = -1)"
   ],
   "metadata": {
    "collapsed": false
   },
   "id": "2569db671909a006",
   "execution_count": null
  },
  {
   "cell_type": "code",
   "outputs": [],
   "source": [
    "np.array(convergence_diag['error_EGA_Static']).shape"
   ],
   "metadata": {
    "collapsed": false
   },
   "id": "4e049b18c92f6a21",
   "execution_count": null
  },
  {
   "cell_type": "code",
   "outputs": [],
   "source": [
    "plt.plot((np.array(convergence_diag['norm_error_EGA_J_Euler']).mean(axis = -1)))\n",
    "plt.plot((np.array(convergence_diag['norm_error_EGA_Static']).mean(axis = -1)))\n"
   ],
   "metadata": {
    "collapsed": false
   },
   "id": "ece52dbde907e14c",
   "execution_count": null
  },
  {
   "cell_type": "code",
   "outputs": [],
   "source": [
    "plt.plot(np.abs(np.array(convergence_diag['error_EGA_Static'])).mean(axis = -1).mean(axis = -1))\n",
    "plt.plot(np.abs(np.array(convergence_diag['error_EGA_J_Euler'])).mean(axis = -1).mean(axis = -1))\n"
   ],
   "metadata": {
    "collapsed": false
   },
   "id": "52035d22efb51043",
   "execution_count": null
  },
  {
   "cell_type": "code",
   "outputs": [],
   "source": [
    "np.array(convergence_diag['time_comp_graph']).mean(axis = -1)/np.array(convergence_diag['time_EGA_static']).mean(axis = -1)"
   ],
   "metadata": {
    "collapsed": false
   },
   "id": "b9269acc4a3da89",
   "execution_count": null
  },
  {
   "cell_type": "code",
   "outputs": [],
   "source": [
    "plt.semilogx(np.array(convergence_diag['time_comp_graph']).mean(axis = -1)/np.array(convergence_diag['time_comp_graph']).mean(axis = -1))\n",
    "plt.semilogx(np.array(convergence_diag['time_comp_graph']).mean(axis = -1)/np.array(convergence_diag['time_EGA_J_Euler']).mean(axis = -1))\n",
    "plt.semilogx(np.array(convergence_diag['time_comp_graph']).mean(axis = -1)/np.array(convergence_diag['time_EGA_static']).mean(axis = -1))"
   ],
   "metadata": {
    "collapsed": false,
    "ExecuteTime": {
     "start_time": "2024-08-22T08:47:11.144449Z"
    }
   },
   "id": "b22c135ed2bc0d27",
   "execution_count": null
  },
  {
   "cell_type": "code",
   "outputs": [],
   "source": [
    "np.array(convergence_diag['time_comp_graph'])/np.array(convergence_diag['time_EGA_J_Euler'])"
   ],
   "metadata": {
    "collapsed": false,
    "ExecuteTime": {
     "start_time": "2024-08-22T08:47:11.145512Z"
    }
   },
   "id": "ec1da99649d0215c",
   "execution_count": null
  },
  {
   "cell_type": "code",
   "outputs": [],
   "source": [
    "plt.figure(figsize=(10,10))\n",
    "plt.plot(convergence_diag['n_steps'],np.array(convergence_diag['time_comp_graph'])/np.array(convergence_diag['time_EGA_ST']), lw = 5, label = 'ST-EGA')\n",
    "plt.plot(convergence_diag['n_steps'],np.array(convergence_diag['time_comp_graph'])/np.array(convergence_diag['time_EGA_J_Euler']), lw = 5, label = 'J-Euler-EGA')\n",
    "plt.plot(convergence_diag['n_steps'],np.array(convergence_diag['time_comp_graph'])/np.array(convergence_diag['time_EGA_static']), lw = 5, label = 'Static-EGA')\n",
    "plt.plot(convergence_diag['n_steps'],np.array(convergence_diag['time_comp_graph'])/np.array(convergence_diag['time_comp_graph']), lw = 5, label = 'Computational graph')\n",
    "plt.legend()"
   ],
   "metadata": {
    "collapsed": false,
    "ExecuteTime": {
     "start_time": "2024-08-22T08:47:11.146511Z"
    }
   },
   "id": "e56322ab13b441ce",
   "execution_count": null
  },
  {
   "cell_type": "code",
   "outputs": [],
   "source": [
    "convergence_diag['time_EGA_ST']"
   ],
   "metadata": {
    "collapsed": false,
    "ExecuteTime": {
     "start_time": "2024-08-22T08:47:11.147584Z"
    }
   },
   "id": "f6ca539573a5b86f",
   "execution_count": null
  },
  {
   "cell_type": "code",
   "outputs": [],
   "source": [
    "plt.figure(figsize=(10,10))\n",
    "plt.loglog(convergence_diag['time_steps'],torch.abs(torch.stack(convergence_diag['error_EGA_ST'])).mean(axis = -1),'*', markersize = 15, lw = 5, label = 'ST-EGA')\n",
    "plt.loglog(convergence_diag['time_steps'],torch.abs(torch.stack(convergence_diag['error_EGA_Static'])).mean(axis = -1), lw = 5, label = 'Static-EGA')\n",
    "plt.loglog(convergence_diag['time_steps'],torch.abs(torch.stack(convergence_diag['error_EGA_J_Euler'])).mean(axis = -1), lw = 5, label = 'J-Euler-EGA')\n",
    "plt.loglog(convergence_diag['time_steps'],50000*np.array(convergence_diag['time_steps'])**2, label = 'Second order', lw = 5)\n",
    "plt.tick_params(axis='both')\n",
    "plt.grid()\n",
    "plt.legend()\n",
    "plt.xlabel('h')\n",
    "plt.ylabel('Gradient error')\n",
    "plt.show()"
   ],
   "metadata": {
    "collapsed": false,
    "ExecuteTime": {
     "start_time": "2024-08-22T08:47:11.148582Z"
    }
   },
   "id": "ece52ff6f6c40a53",
   "execution_count": null
  }
 ],
 "metadata": {
  "kernelspec": {
   "display_name": "Python 3",
   "language": "python",
   "name": "python3"
  },
  "language_info": {
   "codemirror_mode": {
    "name": "ipython",
    "version": 2
   },
   "file_extension": ".py",
   "mimetype": "text/x-python",
   "name": "python",
   "nbconvert_exporter": "python",
   "pygments_lexer": "ipython2",
   "version": "2.7.6"
  }
 },
 "nbformat": 4,
 "nbformat_minor": 5
}
